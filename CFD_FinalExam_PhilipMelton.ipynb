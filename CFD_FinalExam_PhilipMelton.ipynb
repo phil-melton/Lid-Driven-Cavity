{
 "cells": [
  {
   "cell_type": "code",
   "execution_count": 3,
   "metadata": {},
   "outputs": [],
   "source": [
    "'''\n",
    "This code will solve the 'lid driven cavity' problem when the bottom of the cavity is rotating.\n",
    "Author: Philip Melton\n",
    "Instructor: Dr. O\n",
    "12/12/2024\n",
    "'''\n",
    "import numpy as np\n",
    "import matplotlib.pyplot as plt\n",
    "from scipy.sparse import lil_matrix\n",
    "from scipy.sparse.linalg import spsolve"
   ]
  },
  {
   "cell_type": "code",
   "execution_count": 4,
   "metadata": {},
   "outputs": [],
   "source": [
    "'''\n",
    "Setting up the problem\n",
    "'''\n",
    "# set the grid size\n",
    "Ngrid = 32 # number of grid points for x and y direction\n",
    "nx = Ngrid; ny = Ngrid\n",
    "L = 1 # length of each side of square\n",
    "dx = L / nx; dy = L / ny\n",
    "\n",
    "# add the ghost points\n",
    "nx = nx + 2; ny = ny + 2\n",
    "\n",
    "# fluid properties (using water for common incompressible viscous fluid)\n",
    "rho = 1000 # kg/m^3\n",
    "mu = 8.9e-4 # Pa s at room temp.\n",
    "Re = 100 # Reynolds number for the flow\n",
    "Ulid = Re*mu/rho/L # velocity of the lid based on Reynold's number\n",
    "\n",
    "# setting up velocities of different sides of cavity\n",
    "ub = Ulid # velocity is at bottom wall (last name starts with M)\n",
    "ut, ul, ur, vb, vt, vl, vr = 0, 0, 0, 0, 0, 0, 0 # all other wall velocities"
   ]
  },
  {
   "cell_type": "code",
   "execution_count": 5,
   "metadata": {},
   "outputs": [],
   "source": [
    "'''\n",
    "Set solving parameters\n",
    "'''\n",
    "alpha_Pcor = .2 # pressure correction relaxation factor\n",
    "alpha_V = .5 # velocity relaxation factor\n",
    "alpha_P = 1 # pressure relaxation factor"
   ]
  }
 ],
 "metadata": {
  "kernelspec": {
   "display_name": "Python 3",
   "language": "python",
   "name": "python3"
  },
  "language_info": {
   "codemirror_mode": {
    "name": "ipython",
    "version": 3
   },
   "file_extension": ".py",
   "mimetype": "text/x-python",
   "name": "python",
   "nbconvert_exporter": "python",
   "pygments_lexer": "ipython3",
   "version": "3.12.0"
  }
 },
 "nbformat": 4,
 "nbformat_minor": 2
}
